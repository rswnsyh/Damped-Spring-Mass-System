import numpy as np
import math
import matplotlib.pyplot as plt

def RK_4_pegas_massa(x0, v0, m, c, k, T, dt):
    Nt = int((T-0)/dt)
    t = [i*dt for i in range(Nt+1)] 
    x = [0 for i in range(Nt+1)]
    v = [0 for i in range(Nt+1)]

    x[0] = x0
    v[0] = v0

    for i in range (Nt):
      
      #Calculate K dan L
      k1 = v[i]
      l1 = -(c*v[i]+k*x[i])/m
      k2 = v[i]+(l1/2)
      l2 = -(c*(v[i]+l1/2)+k*(x[i]+k1/2))/m
      k3 = v[i]+(l2/2)
      l3 = -(c*(v[i]+l2/2)+k*(x[i]+k2/2))/m
      k4 = v[i]+(l3)
      l4 = -(c*(v[i]+l3)+k*(x[i]+k3))/m

      #Calculate x dan v
      x[i+1] = x[i] + (dt/6)*(k1+2*k2+2*k3+k4)
      v[i+1] = v[i] + (dt/6)*(l1+2*l2+2*l3+l4)

    return [t, x, v]

#Testing the function

x0 = 5
v0 = 0
m = 2
c = 0.1
k = 5
T = 100
dt = 0.1

hasil = RK_4_pegas_massa(x0, v0, m, c, k, T, dt)

x = hasil[1]
t = hasil[0]

plt.plot(t,x)
plt.show()
